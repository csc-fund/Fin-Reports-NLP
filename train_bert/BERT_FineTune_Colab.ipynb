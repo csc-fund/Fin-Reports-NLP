{
 "cells": [
  {
   "cell_type": "markdown",
   "metadata": {
    "id": "XESYFaMEw2Np",
    "pycharm": {
     "name": "#%% md\n"
    }
   },
   "source": [
    "## 1.服务器环境配置"
   ]
  },
  {
   "cell_type": "markdown",
   "metadata": {
    "id": "uwh5_rhsw2Nt",
    "pycharm": {
     "name": "#%% md\n"
    }
   },
   "source": [
    "### 安装需要的软件包"
   ]
  },
  {
   "cell_type": "code",
   "execution_count": 1,
   "metadata": {
    "colab": {
     "base_uri": "https://localhost:8080/"
    },
    "id": "gR6dzx0_w2Nt",
    "outputId": "3bbe534f-b226-4c87-c8a9-de3e73d0100a",
    "pycharm": {
     "name": "#%%\n"
    }
   },
   "outputs": [
    {
     "output_type": "stream",
     "name": "stdout",
     "text": [
      "Looking in indexes: https://pypi.org/simple, https://us-python.pkg.dev/colab-wheels/public/simple/\n",
      "Collecting transformers\n",
      "  Downloading transformers-4.21.1-py3-none-any.whl (4.7 MB)\n",
      "\u001B[K     |████████████████████████████████| 4.7 MB 5.0 MB/s \n",
      "\u001B[?25hCollecting datasets\n",
      "  Downloading datasets-2.4.0-py3-none-any.whl (365 kB)\n",
      "\u001B[K     |████████████████████████████████| 365 kB 52.5 MB/s \n",
      "\u001B[?25hRequirement already satisfied: tensorboard in /usr/local/lib/python3.7/dist-packages (2.8.0)\n",
      "Collecting tokenizers!=0.11.3,<0.13,>=0.11.1\n",
      "  Downloading tokenizers-0.12.1-cp37-cp37m-manylinux_2_12_x86_64.manylinux2010_x86_64.whl (6.6 MB)\n",
      "\u001B[K     |████████████████████████████████| 6.6 MB 35.6 MB/s \n",
      "\u001B[?25hRequirement already satisfied: packaging>=20.0 in /usr/local/lib/python3.7/dist-packages (from transformers) (21.3)\n",
      "Requirement already satisfied: numpy>=1.17 in /usr/local/lib/python3.7/dist-packages (from transformers) (1.21.6)\n",
      "Requirement already satisfied: filelock in /usr/local/lib/python3.7/dist-packages (from transformers) (3.7.1)\n",
      "Requirement already satisfied: requests in /usr/local/lib/python3.7/dist-packages (from transformers) (2.23.0)\n",
      "Requirement already satisfied: tqdm>=4.27 in /usr/local/lib/python3.7/dist-packages (from transformers) (4.64.0)\n",
      "Requirement already satisfied: importlib-metadata in /usr/local/lib/python3.7/dist-packages (from transformers) (4.12.0)\n",
      "Collecting pyyaml>=5.1\n",
      "  Downloading PyYAML-6.0-cp37-cp37m-manylinux_2_5_x86_64.manylinux1_x86_64.manylinux_2_12_x86_64.manylinux2010_x86_64.whl (596 kB)\n",
      "\u001B[K     |████████████████████████████████| 596 kB 54.8 MB/s \n",
      "\u001B[?25hCollecting huggingface-hub<1.0,>=0.1.0\n",
      "  Downloading huggingface_hub-0.8.1-py3-none-any.whl (101 kB)\n",
      "\u001B[K     |████████████████████████████████| 101 kB 11.0 MB/s \n",
      "\u001B[?25hRequirement already satisfied: regex!=2019.12.17 in /usr/local/lib/python3.7/dist-packages (from transformers) (2022.6.2)\n",
      "Requirement already satisfied: typing-extensions>=3.7.4.3 in /usr/local/lib/python3.7/dist-packages (from huggingface-hub<1.0,>=0.1.0->transformers) (4.1.1)\n",
      "Requirement already satisfied: pyparsing!=3.0.5,>=2.0.2 in /usr/local/lib/python3.7/dist-packages (from packaging>=20.0->transformers) (3.0.9)\n",
      "Requirement already satisfied: aiohttp in /usr/local/lib/python3.7/dist-packages (from datasets) (3.8.1)\n",
      "Collecting responses<0.19\n",
      "  Downloading responses-0.18.0-py3-none-any.whl (38 kB)\n",
      "Collecting fsspec[http]>=2021.11.1\n",
      "  Downloading fsspec-2022.7.1-py3-none-any.whl (141 kB)\n",
      "\u001B[K     |████████████████████████████████| 141 kB 47.5 MB/s \n",
      "\u001B[?25hCollecting multiprocess\n",
      "  Downloading multiprocess-0.70.13-py37-none-any.whl (115 kB)\n",
      "\u001B[K     |████████████████████████████████| 115 kB 64.3 MB/s \n",
      "\u001B[?25hRequirement already satisfied: dill<0.3.6 in /usr/local/lib/python3.7/dist-packages (from datasets) (0.3.5.1)\n",
      "Collecting xxhash\n",
      "  Downloading xxhash-3.0.0-cp37-cp37m-manylinux_2_17_x86_64.manylinux2014_x86_64.whl (212 kB)\n",
      "\u001B[K     |████████████████████████████████| 212 kB 52.6 MB/s \n",
      "\u001B[?25hRequirement already satisfied: pandas in /usr/local/lib/python3.7/dist-packages (from datasets) (1.3.5)\n",
      "Requirement already satisfied: pyarrow>=6.0.0 in /usr/local/lib/python3.7/dist-packages (from datasets) (6.0.1)\n",
      "Requirement already satisfied: idna<3,>=2.5 in /usr/local/lib/python3.7/dist-packages (from requests->transformers) (2.10)\n",
      "Requirement already satisfied: chardet<4,>=3.0.2 in /usr/local/lib/python3.7/dist-packages (from requests->transformers) (3.0.4)\n",
      "Requirement already satisfied: certifi>=2017.4.17 in /usr/local/lib/python3.7/dist-packages (from requests->transformers) (2022.6.15)\n",
      "Requirement already satisfied: urllib3!=1.25.0,!=1.25.1,<1.26,>=1.21.1 in /usr/local/lib/python3.7/dist-packages (from requests->transformers) (1.24.3)\n",
      "Collecting urllib3!=1.25.0,!=1.25.1,<1.26,>=1.21.1\n",
      "  Downloading urllib3-1.25.11-py2.py3-none-any.whl (127 kB)\n",
      "\u001B[K     |████████████████████████████████| 127 kB 49.4 MB/s \n",
      "\u001B[?25hRequirement already satisfied: markdown>=2.6.8 in /usr/local/lib/python3.7/dist-packages (from tensorboard) (3.4.1)\n",
      "Requirement already satisfied: google-auth-oauthlib<0.5,>=0.4.1 in /usr/local/lib/python3.7/dist-packages (from tensorboard) (0.4.6)\n",
      "Requirement already satisfied: setuptools>=41.0.0 in /usr/local/lib/python3.7/dist-packages (from tensorboard) (57.4.0)\n",
      "Requirement already satisfied: tensorboard-plugin-wit>=1.6.0 in /usr/local/lib/python3.7/dist-packages (from tensorboard) (1.8.1)\n",
      "Requirement already satisfied: werkzeug>=0.11.15 in /usr/local/lib/python3.7/dist-packages (from tensorboard) (1.0.1)\n",
      "Requirement already satisfied: tensorboard-data-server<0.7.0,>=0.6.0 in /usr/local/lib/python3.7/dist-packages (from tensorboard) (0.6.1)\n",
      "Requirement already satisfied: protobuf>=3.6.0 in /usr/local/lib/python3.7/dist-packages (from tensorboard) (3.17.3)\n",
      "Requirement already satisfied: absl-py>=0.4 in /usr/local/lib/python3.7/dist-packages (from tensorboard) (1.2.0)\n",
      "Requirement already satisfied: google-auth<3,>=1.6.3 in /usr/local/lib/python3.7/dist-packages (from tensorboard) (1.35.0)\n",
      "Requirement already satisfied: grpcio>=1.24.3 in /usr/local/lib/python3.7/dist-packages (from tensorboard) (1.47.0)\n",
      "Requirement already satisfied: wheel>=0.26 in /usr/local/lib/python3.7/dist-packages (from tensorboard) (0.37.1)\n",
      "Requirement already satisfied: six>=1.9.0 in /usr/local/lib/python3.7/dist-packages (from google-auth<3,>=1.6.3->tensorboard) (1.15.0)\n",
      "Requirement already satisfied: pyasn1-modules>=0.2.1 in /usr/local/lib/python3.7/dist-packages (from google-auth<3,>=1.6.3->tensorboard) (0.2.8)\n",
      "Requirement already satisfied: cachetools<5.0,>=2.0.0 in /usr/local/lib/python3.7/dist-packages (from google-auth<3,>=1.6.3->tensorboard) (4.2.4)\n",
      "Requirement already satisfied: rsa<5,>=3.1.4 in /usr/local/lib/python3.7/dist-packages (from google-auth<3,>=1.6.3->tensorboard) (4.9)\n",
      "Requirement already satisfied: requests-oauthlib>=0.7.0 in /usr/local/lib/python3.7/dist-packages (from google-auth-oauthlib<0.5,>=0.4.1->tensorboard) (1.3.1)\n",
      "Requirement already satisfied: zipp>=0.5 in /usr/local/lib/python3.7/dist-packages (from importlib-metadata->transformers) (3.8.1)\n",
      "Requirement already satisfied: pyasn1<0.5.0,>=0.4.6 in /usr/local/lib/python3.7/dist-packages (from pyasn1-modules>=0.2.1->google-auth<3,>=1.6.3->tensorboard) (0.4.8)\n",
      "Requirement already satisfied: oauthlib>=3.0.0 in /usr/local/lib/python3.7/dist-packages (from requests-oauthlib>=0.7.0->google-auth-oauthlib<0.5,>=0.4.1->tensorboard) (3.2.0)\n",
      "Requirement already satisfied: asynctest==0.13.0 in /usr/local/lib/python3.7/dist-packages (from aiohttp->datasets) (0.13.0)\n",
      "Requirement already satisfied: yarl<2.0,>=1.0 in /usr/local/lib/python3.7/dist-packages (from aiohttp->datasets) (1.8.1)\n",
      "Requirement already satisfied: attrs>=17.3.0 in /usr/local/lib/python3.7/dist-packages (from aiohttp->datasets) (22.1.0)\n",
      "Requirement already satisfied: multidict<7.0,>=4.5 in /usr/local/lib/python3.7/dist-packages (from aiohttp->datasets) (6.0.2)\n",
      "Requirement already satisfied: charset-normalizer<3.0,>=2.0 in /usr/local/lib/python3.7/dist-packages (from aiohttp->datasets) (2.1.0)\n",
      "Requirement already satisfied: async-timeout<5.0,>=4.0.0a3 in /usr/local/lib/python3.7/dist-packages (from aiohttp->datasets) (4.0.2)\n",
      "Requirement already satisfied: frozenlist>=1.1.1 in /usr/local/lib/python3.7/dist-packages (from aiohttp->datasets) (1.3.0)\n",
      "Requirement already satisfied: aiosignal>=1.1.2 in /usr/local/lib/python3.7/dist-packages (from aiohttp->datasets) (1.2.0)\n",
      "Requirement already satisfied: python-dateutil>=2.7.3 in /usr/local/lib/python3.7/dist-packages (from pandas->datasets) (2.8.2)\n",
      "Requirement already satisfied: pytz>=2017.3 in /usr/local/lib/python3.7/dist-packages (from pandas->datasets) (2022.1)\n",
      "Installing collected packages: urllib3, pyyaml, fsspec, xxhash, tokenizers, responses, multiprocess, huggingface-hub, transformers, datasets\n",
      "  Attempting uninstall: urllib3\n",
      "    Found existing installation: urllib3 1.24.3\n",
      "    Uninstalling urllib3-1.24.3:\n",
      "      Successfully uninstalled urllib3-1.24.3\n",
      "  Attempting uninstall: pyyaml\n",
      "    Found existing installation: PyYAML 3.13\n",
      "    Uninstalling PyYAML-3.13:\n",
      "      Successfully uninstalled PyYAML-3.13\n",
      "Successfully installed datasets-2.4.0 fsspec-2022.7.1 huggingface-hub-0.8.1 multiprocess-0.70.13 pyyaml-6.0 responses-0.18.0 tokenizers-0.12.1 transformers-4.21.1 urllib3-1.25.11 xxhash-3.0.0\n"
     ]
    }
   ],
   "source": [
    "% pip install transformers datasets tensorboard"
   ]
  },
  {
   "cell_type": "code",
   "execution_count": 1,
   "metadata": {
    "id": "UOmp-xfxw2Nv",
    "pycharm": {
     "name": "#%%\n"
    }
   },
   "outputs": [],
   "source": []
  },
  {
   "cell_type": "code",
   "execution_count": 1,
   "metadata": {
    "id": "DncaMIFow2Nv",
    "pycharm": {
     "name": "#%%\n"
    }
   },
   "outputs": [],
   "source": []
  },
  {
   "cell_type": "markdown",
   "metadata": {
    "id": "rZeBBGlZw2Nw",
    "pycharm": {
     "name": "#%% md\n"
    }
   },
   "source": [
    "### 查看服务器 GPU 等硬件信息\n"
   ]
  },
  {
   "cell_type": "code",
   "execution_count": 1,
   "metadata": {
    "id": "0An_7HFNw2Nx",
    "colab": {
     "base_uri": "https://localhost:8080/",
     "height": 0
    },
    "outputId": "39f7acad-d294-4a6c-8e72-31d7d5243979",
    "pycharm": {
     "name": "#%%\n"
    }
   },
   "outputs": [
    {
     "ename": "AssertionError",
     "evalue": "Torch not compiled with CUDA enabled",
     "output_type": "error",
     "traceback": [
      "\u001B[1;31m---------------------------------------------------------------------------\u001B[0m",
      "\u001B[1;31mAssertionError\u001B[0m                            Traceback (most recent call last)",
      "Input \u001B[1;32mIn [1]\u001B[0m, in \u001B[0;36m<cell line: 3>\u001B[1;34m()\u001B[0m\n\u001B[0;32m      1\u001B[0m \u001B[38;5;28;01mimport\u001B[39;00m \u001B[38;5;21;01mtorch\u001B[39;00m\n\u001B[1;32m----> 3\u001B[0m \u001B[43mtorch\u001B[49m\u001B[38;5;241;43m.\u001B[39;49m\u001B[43mcuda\u001B[49m\u001B[38;5;241;43m.\u001B[39;49m\u001B[43mget_device_name\u001B[49m\u001B[43m(\u001B[49m\u001B[43m)\u001B[49m\n",
      "File \u001B[1;32mC:\\ProgramData\\Anaconda3\\envs\\Fin-Reports-NLP\\lib\\site-packages\\torch\\cuda\\__init__.py:329\u001B[0m, in \u001B[0;36mget_device_name\u001B[1;34m(device)\u001B[0m\n\u001B[0;32m    317\u001B[0m \u001B[38;5;28;01mdef\u001B[39;00m \u001B[38;5;21mget_device_name\u001B[39m(device: Optional[_device_t] \u001B[38;5;241m=\u001B[39m \u001B[38;5;28;01mNone\u001B[39;00m) \u001B[38;5;241m-\u001B[39m\u001B[38;5;241m>\u001B[39m \u001B[38;5;28mstr\u001B[39m:\n\u001B[0;32m    318\u001B[0m     \u001B[38;5;124mr\u001B[39m\u001B[38;5;124;03m\"\"\"Gets the name of a device.\u001B[39;00m\n\u001B[0;32m    319\u001B[0m \n\u001B[0;32m    320\u001B[0m \u001B[38;5;124;03m    Args:\u001B[39;00m\n\u001B[1;32m   (...)\u001B[0m\n\u001B[0;32m    327\u001B[0m \u001B[38;5;124;03m        str: the name of the device\u001B[39;00m\n\u001B[0;32m    328\u001B[0m \u001B[38;5;124;03m    \"\"\"\u001B[39;00m\n\u001B[1;32m--> 329\u001B[0m     \u001B[38;5;28;01mreturn\u001B[39;00m \u001B[43mget_device_properties\u001B[49m\u001B[43m(\u001B[49m\u001B[43mdevice\u001B[49m\u001B[43m)\u001B[49m\u001B[38;5;241m.\u001B[39mname\n",
      "File \u001B[1;32mC:\\ProgramData\\Anaconda3\\envs\\Fin-Reports-NLP\\lib\\site-packages\\torch\\cuda\\__init__.py:359\u001B[0m, in \u001B[0;36mget_device_properties\u001B[1;34m(device)\u001B[0m\n\u001B[0;32m    349\u001B[0m \u001B[38;5;28;01mdef\u001B[39;00m \u001B[38;5;21mget_device_properties\u001B[39m(device: _device_t) \u001B[38;5;241m-\u001B[39m\u001B[38;5;241m>\u001B[39m _CudaDeviceProperties:\n\u001B[0;32m    350\u001B[0m     \u001B[38;5;124mr\u001B[39m\u001B[38;5;124;03m\"\"\"Gets the properties of a device.\u001B[39;00m\n\u001B[0;32m    351\u001B[0m \n\u001B[0;32m    352\u001B[0m \u001B[38;5;124;03m    Args:\u001B[39;00m\n\u001B[1;32m   (...)\u001B[0m\n\u001B[0;32m    357\u001B[0m \u001B[38;5;124;03m        _CudaDeviceProperties: the properties of the device\u001B[39;00m\n\u001B[0;32m    358\u001B[0m \u001B[38;5;124;03m    \"\"\"\u001B[39;00m\n\u001B[1;32m--> 359\u001B[0m     \u001B[43m_lazy_init\u001B[49m\u001B[43m(\u001B[49m\u001B[43m)\u001B[49m  \u001B[38;5;66;03m# will define _get_device_properties\u001B[39;00m\n\u001B[0;32m    360\u001B[0m     device \u001B[38;5;241m=\u001B[39m _get_device_index(device, optional\u001B[38;5;241m=\u001B[39m\u001B[38;5;28;01mTrue\u001B[39;00m)\n\u001B[0;32m    361\u001B[0m     \u001B[38;5;28;01mif\u001B[39;00m device \u001B[38;5;241m<\u001B[39m \u001B[38;5;241m0\u001B[39m \u001B[38;5;129;01mor\u001B[39;00m device \u001B[38;5;241m>\u001B[39m\u001B[38;5;241m=\u001B[39m device_count():\n",
      "File \u001B[1;32mC:\\ProgramData\\Anaconda3\\envs\\Fin-Reports-NLP\\lib\\site-packages\\torch\\cuda\\__init__.py:211\u001B[0m, in \u001B[0;36m_lazy_init\u001B[1;34m()\u001B[0m\n\u001B[0;32m    207\u001B[0m     \u001B[38;5;28;01mraise\u001B[39;00m \u001B[38;5;167;01mRuntimeError\u001B[39;00m(\n\u001B[0;32m    208\u001B[0m         \u001B[38;5;124m\"\u001B[39m\u001B[38;5;124mCannot re-initialize CUDA in forked subprocess. To use CUDA with \u001B[39m\u001B[38;5;124m\"\u001B[39m\n\u001B[0;32m    209\u001B[0m         \u001B[38;5;124m\"\u001B[39m\u001B[38;5;124mmultiprocessing, you must use the \u001B[39m\u001B[38;5;124m'\u001B[39m\u001B[38;5;124mspawn\u001B[39m\u001B[38;5;124m'\u001B[39m\u001B[38;5;124m start method\u001B[39m\u001B[38;5;124m\"\u001B[39m)\n\u001B[0;32m    210\u001B[0m \u001B[38;5;28;01mif\u001B[39;00m \u001B[38;5;129;01mnot\u001B[39;00m \u001B[38;5;28mhasattr\u001B[39m(torch\u001B[38;5;241m.\u001B[39m_C, \u001B[38;5;124m'\u001B[39m\u001B[38;5;124m_cuda_getDeviceCount\u001B[39m\u001B[38;5;124m'\u001B[39m):\n\u001B[1;32m--> 211\u001B[0m     \u001B[38;5;28;01mraise\u001B[39;00m \u001B[38;5;167;01mAssertionError\u001B[39;00m(\u001B[38;5;124m\"\u001B[39m\u001B[38;5;124mTorch not compiled with CUDA enabled\u001B[39m\u001B[38;5;124m\"\u001B[39m)\n\u001B[0;32m    212\u001B[0m \u001B[38;5;28;01mif\u001B[39;00m _cudart \u001B[38;5;129;01mis\u001B[39;00m \u001B[38;5;28;01mNone\u001B[39;00m:\n\u001B[0;32m    213\u001B[0m     \u001B[38;5;28;01mraise\u001B[39;00m \u001B[38;5;167;01mAssertionError\u001B[39;00m(\n\u001B[0;32m    214\u001B[0m         \u001B[38;5;124m\"\u001B[39m\u001B[38;5;124mlibcudart functions unavailable. It looks like you have a broken build?\u001B[39m\u001B[38;5;124m\"\u001B[39m)\n",
      "\u001B[1;31mAssertionError\u001B[0m: Torch not compiled with CUDA enabled"
     ]
    }
   ],
   "source": [
    "import torch\n",
    "\n",
    "torch.cuda.get_device_name()"
   ]
  },
  {
   "cell_type": "markdown",
   "metadata": {
    "id": "hc6JR4vYw2Ny",
    "pycharm": {
     "name": "#%% md\n"
    }
   },
   "source": [
    "## 2.缓存云盘上的模型和数据集到服务器\n"
   ]
  },
  {
   "cell_type": "code",
   "execution_count": 3,
   "metadata": {
    "colab": {
     "base_uri": "https://localhost:8080/"
    },
    "id": "LtZOFUnxyNBq",
    "outputId": "bc303a42-e49b-4e77-8451-560801c4f77e",
    "pycharm": {
     "name": "#%%\n"
    }
   },
   "outputs": [
    {
     "output_type": "stream",
     "name": "stdout",
     "text": [
      "Mounted at /content/drive\n"
     ]
    }
   ],
   "source": [
    "from google.colab import drive\n",
    "\n",
    "drive.mount('/content/drive')"
   ]
  },
  {
   "cell_type": "code",
   "execution_count": 4,
   "metadata": {
    "colab": {
     "base_uri": "https://localhost:8080/"
    },
    "id": "y2OSgdBQw2Ny",
    "outputId": "183a446f-1a36-4ae0-cf76-c37bec7834e4",
    "pycharm": {
     "name": "#%%\n"
    }
   },
   "outputs": [
    {
     "output_type": "stream",
     "name": "stdout",
     "text": [
      "DataSetList: ['flowers17_tsycnh.zip', 'CCF_2019.zip', 'rpt_report_price.zip']\n"
     ]
    }
   ],
   "source": [
    "import os\n",
    "import shutil\n",
    "import zipfile\n",
    "\n",
    "# 云盘的路径\n",
    "Cloud_Data_Path = '/content/drive/MyDrive/DataSets/'\n",
    "Data_Set_Name = 'rpt_report_price.zip'  # 数据集\n",
    "Cloud_Model_Path = '/content/drive/MyDrive/Models/pytorchmodels/FinBERT_L-12_H-768_A-12/'  # 模型\n",
    "\n",
    "# 服务器的路径\n",
    "Local_Data_Path = '/content/LocalDataSets/'\n",
    "Local_Model_Path = '/content/LocalModels/'\n",
    "\n",
    "\n",
    "# 解压缩\n",
    "def unzip(file_path, tar_path):\n",
    "    # 压缩文件判断\n",
    "    if os.path.splitext(file_path)[-1] == '.zip':\n",
    "\n",
    "        zFile = zipfile.ZipFile(file_path, \"r\")\n",
    "        for files in zFile.namelist():\n",
    "            zFile.extract(files, tar_path)\n",
    "\n",
    "        zFile.close()\n",
    "\n",
    "\n",
    "# 下载到服务器\n",
    "def down_data():\n",
    "    # 列出云盘所有数据集\n",
    "    DataSetList = os.listdir(Cloud_Data_Path)\n",
    "    print('DataSetList:', DataSetList)\n",
    "\n",
    "    # 下载数据集\n",
    "    if Data_Set_Name in DataSetList:\n",
    "\n",
    "        # 创建本地数据集文件夹\n",
    "        if not os.path.exists(Local_Data_Path):\n",
    "            os.makedirs(Local_Data_Path)\n",
    "\n",
    "        # 复制到本地\n",
    "        shutil.copy(Cloud_Data_Path + Data_Set_Name,\n",
    "                    Local_Data_Path + Data_Set_Name)\n",
    "\n",
    "        # 如果是压缩文件\n",
    "        unzip(Local_Data_Path + Data_Set_Name, Local_Data_Path)\n",
    "\n",
    "    # 下载模型\n",
    "    try:\n",
    "        shutil.copytree(\n",
    "            Cloud_Model_Path,\n",
    "            Local_Model_Path + str(Cloud_Model_Path).split('/')[-2])\n",
    "    except FileExistsError as e:\n",
    "        pass\n",
    "\n",
    "\n",
    "down_data()"
   ]
  },
  {
   "cell_type": "markdown",
   "metadata": {
    "id": "Uya7xSUnw2N0",
    "pycharm": {
     "name": "#%% md\n"
    }
   },
   "source": [
    "## 3.在预训练模型上进行微调\n"
   ]
  },
  {
   "cell_type": "markdown",
   "metadata": {
    "id": "O0FMPqzaw2N0",
    "pycharm": {
     "name": "#%% md\n"
    }
   },
   "source": [
    "### 可视化训练过程\n",
    "用tensorboard记录日志文件"
   ]
  },
  {
   "cell_type": "code",
   "execution_count": 5,
   "metadata": {
    "id": "olK4AQshw2N0",
    "pycharm": {
     "name": "#%%\n"
    }
   },
   "outputs": [],
   "source": [
    "#  可视化\n",
    "# logs_base_dir = '/content/gdrive/MyDrive/Saved_Models/FinBERT_L-12_H-768_A-12/runs/Jul22_13-49-58_1f15589edb2a/'\n",
    "# %load_ext tensorboard\n",
    "# %tensorboard --logdir={logs_base_dir}"
   ]
  },
  {
   "cell_type": "markdown",
   "metadata": {
    "id": "0E9AEWV1w2N1",
    "pycharm": {
     "name": "#%% md\n"
    }
   },
   "source": [
    "### 微调"
   ]
  },
  {
   "cell_type": "code",
   "execution_count": 1,
   "metadata": {
    "colab": {
     "base_uri": "https://localhost:8080/",
     "height": 1000,
     "referenced_widgets": [
      "82d45a45257942e9b1cee5e55c0257d6",
      "d56f860d82d0467087bf963eded89cd1",
      "e7757c8aa6734387a9adbea857e0d36f",
      "d9fa0f3bf7bf46a6825d3817cd9767c4",
      "7e06098f8f7e4db393f9c7f49410c127",
      "f03fa56028b045b5886eb0d78bfa12f5",
      "0e7d0be2e58e44c8a1a26b01024d98a0",
      "d40f53a042ab4bca9aa1adcd5742d7cb",
      "1fc42a74596a46a0ade90b115816658f",
      "c99f577f252c4fa78e74ae233b6c53aa",
      "f8a83b1b1d1f44928e502afc3cd65bb7"
     ]
    },
    "id": "SYsU8P9hw2N1",
    "outputId": "fb4da628-f96f-4fb1-b27f-65d4a16feaea",
    "pycharm": {
     "name": "#%%\n"
    }
   },
   "outputs": [
    {
     "ename": "IndentationError",
     "evalue": "expected an indented block (86809510.py, line 126)",
     "output_type": "error",
     "traceback": [
      "\u001B[0;36m  Input \u001B[0;32mIn [1]\u001B[0;36m\u001B[0m\n\u001B[0;31m    \u001B[0m\n\u001B[0m    ^\u001B[0m\n\u001B[0;31mIndentationError\u001B[0m\u001B[0;31m:\u001B[0m expected an indented block\n"
     ]
    }
   ],
   "source": [
    "from datasets import load_dataset\n",
    "from transformers import BertTokenizer, BertForSequenceClassification, TrainingArguments, Trainer\n",
    "from sklearn.metrics import accuracy_score, precision_recall_fscore_support\n",
    "import os\n",
    "import numpy as np\n",
    "\n",
    "\n",
    "# 新建一个class\n",
    "class TrainBert:\n",
    "    def __init__(self):\n",
    "        #-------------------- 参数区 --------------------#\n",
    "        self.CLASS_TAR = 1  #分类\n",
    "        self.SENTENCE_MAX = 25\n",
    "        self.CONTENT_COLUMN = 'title'  #BERT用于训练的文字的列名\n",
    "        self.TAG_COLUMN = 'TAG_-1_1'  #标签所在的列名\n",
    "        self.ALL_STEP = 100\n",
    "        self.BATCH_SIZE = 512\n",
    "        self.LEARN_RATE = 1e-2\n",
    "\n",
    "        self.LEARN_RATE_LIST = [1e-2, 1e-3, 1e-4]\n",
    "        self.BATCH_SIZE_LIST = [64, 128, 256, 512]\n",
    "\n",
    "        #-------------------- 模型和数据集路径 --------------------#\n",
    "        model_path = '/content/LocalModels/FinBERT_L-12_H-768_A-12/'\n",
    "        local_root_path = '/content/LocalDataSets/'\n",
    "        dateset_name = 'rpt_report_price'\n",
    "        dataset_path = local_root_path + dateset_name + '/'\n",
    "        saved_path = '/content/drive/MyDrive/Saved_Models/FinBERT_L-12_H-768_A-12/' + dateset_name + '/' + TAG_COLUMN + '/'\n",
    "\n",
    "    #     用于训练的方法\n",
    "    def start_train(self):\n",
    "        pass\n",
    "\n",
    "    #网格法调整超参数\n",
    "    def save_settings(self):\n",
    "        pass\n",
    "\n",
    "\n",
    "#-------------------- 参数区 --------------------#\n",
    "CLASS_TAR = 2  #分类\n",
    "SENTENCE_LEN = 25  #句子长度\n",
    "CONTENT_COLUMN = 'title'  #BERT用于训练的文字的列名\n",
    "TAG_COLUMN = 'TAG_-1_1'  #标签所在的列名\n",
    "ALL_STEP = 100\n",
    "BATCH_SIZE = 512\n",
    "LEARN_RATE = 1e-2\n",
    "LEARN_RATE_LIST = [1e-2, 1e-3, 1e-4]\n",
    "BATCH_SIZE_LIST = [64, 128, 256, 512]\n",
    "\n",
    "#-------------------- 模型和数据集路径 --------------------#\n",
    "model_path = '/content/LocalModels/FinBERT_L-12_H-768_A-12/'\n",
    "local_root_path = '/content/LocalDataSets/'\n",
    "dateset_name = 'rpt_report_price'\n",
    "dataset_path = local_root_path + dateset_name + '/'\n",
    "saved_path = '/content/drive/MyDrive/Saved_Models/FinBERT_L-12_H-768_A-12/' + dateset_name + '/' + TAG_COLUMN + '/'\n",
    "\n",
    "if not os.path.exists(saved_path):\n",
    "    os.makedirs(saved_path)\n",
    "\n",
    "\n",
    "# 读取数据\n",
    "\n",
    "def read_data(base_url):\n",
    "    return load_dataset('csv',\n",
    "                        data_files={\n",
    "                            'train': base_url + 'train.csv',\n",
    "                            'test': base_url + 'test.csv',\n",
    "                            'dev': base_url + 'dev.csv'\n",
    "                        })\n",
    "\n",
    "\n",
    "# 编码训练集\n",
    "def tokenize_data(tokenizer: BertTokenizer, word_length: int = SENTENCE_LEN):\n",
    "    # 加载数据集\n",
    "    raw_datasets = read_data(dataset_path)\n",
    "\n",
    "    # 向量化函数\n",
    "    def tokenize_function(dataset):\n",
    "        return tokenizer(dataset[CONTENT_COLUMN],\n",
    "                         truncation=True,\n",
    "                         padding='max_length',\n",
    "                         max_length=word_length)\n",
    "\n",
    "    tokenized_datasets = raw_datasets.map(tokenize_function, batched=True)\n",
    "\n",
    "    # 重命名列\n",
    "    tokenized_datasets = tokenized_datasets.rename_column(TAG_COLUMN, 'labels')\n",
    "\n",
    "    return tokenized_datasets\n",
    "\n",
    "\n",
    "#-------------------- 模型训练 --------------------#\n",
    "def train_model(bert_path, class_num: int = CLASS_TAR):\n",
    "    # 获取预训练的编码器和模型\n",
    "    tokenizer = BertTokenizer.from_pretrained(bert_path)\n",
    "    model = BertForSequenceClassification.from_pretrained(bert_path,\n",
    "                                                          num_labels=class_num)\n",
    "\n",
    "    # 获得向量化后的数据\n",
    "    tokenized_datasets = tokenize_data(tokenizer)\n",
    "\n",
    "    # 定义评价指标\n",
    "    def compute_metrics(eval_preds):\n",
    "        logits, labels = eval_preds\n",
    "        predictions = np.argmax(logits, axis=-1)\n",
    "        precision, recall, f1, _ = precision_recall_fscore_support(\n",
    "            labels, predictions, average='micro')\n",
    "        acc = accuracy_score(labels, predictions)\n",
    "        result = {\n",
    "            'accuracy': acc,\n",
    "            'f1': f1,\n",
    "            'precision': precision,\n",
    "            'recall': recall\n",
    "        }\n",
    "\n",
    "        return result\n",
    "\n",
    "    #-------------------- 定义训练参数 --------------------#\n",
    "\n",
    "    args = TrainingArguments(\n",
    "        output_dir=saved_path,  # 保存路径，存放检查点和其他输出文件\n",
    "        evaluation_strategy='steps',  # 每50steps结束后进行评价\n",
    "        eval_steps=ALL_STEP,\n",
    "        logging_strategy=\"steps\",\n",
    "        logging_steps=ALL_STEP,\n",
    "        save_strategy=\"steps\",\n",
    "        save_steps=ALL_STEP,\n",
    "        load_best_model_at_end=True,\n",
    "        metric_for_best_model=\"accuracy\",\n",
    "        report_to=\"tensorboard\",\n",
    "        # warmup_steps=500,  # 热身步数\n",
    "        # weight_decay=0.01,  # 权重衰减\n",
    "        learning_rate=LEARN_RATE,  # 初始学习率\n",
    "        per_device_train_batch_size=BATCH_SIZE,  # 训练批次大小\n",
    "        per_device_eval_batch_size=BATCH_SIZE,  # 测试批次大小\n",
    "        num_train_epochs=4,  # 训练轮数\n",
    "    )\n",
    "\n",
    "    # 定义训练器\n",
    "    trainer = Trainer(model,\n",
    "                      args,\n",
    "                      train_dataset=tokenized_datasets['train'],\n",
    "                      eval_dataset=tokenized_datasets[\"dev\"],\n",
    "                      tokenizer=tokenizer,\n",
    "                      compute_metrics=compute_metrics)\n",
    "\n",
    "    # 开始训练\n",
    "\n",
    "    trainer.train()\n",
    "\n",
    "    # 训练完成以后的测试集评价\n",
    "    trainer.evaluate(eval_dataset=tokenized_datasets['test'])\n",
    "\n",
    "\n",
    "# 模型训练\n",
    "train_model(model_path, class_num=CLASS_TAR)\n",
    "\n",
    "\n",
    "# 循环训练参数\n",
    "def save_set():\n",
    "    pass\n"
   ]
  },
  {
   "cell_type": "markdown",
   "metadata": {
    "id": "SAxQrCUdw2N3",
    "pycharm": {
     "name": "#%% md\n"
    }
   },
   "source": [
    "## 4.下游分类任务\n"
   ]
  },
  {
   "cell_type": "code",
   "execution_count": 7,
   "metadata": {
    "id": "YIz22ObWw2N3",
    "colab": {
     "base_uri": "https://localhost:8080/",
     "height": 401
    },
    "outputId": "5f959a23-ac0c-4fd5-ee9e-caa65c06f365",
    "pycharm": {
     "name": "#%%\n"
    }
   },
   "outputs": [
    {
     "output_type": "error",
     "ename": "FileNotFoundError",
     "evalue": "ignored",
     "traceback": [
      "\u001B[0;31m---------------------------------------------------------------------------\u001B[0m",
      "\u001B[0;31mFileNotFoundError\u001B[0m                         Traceback (most recent call last)",
      "\u001B[0;32m<ipython-input-7-f475480ff637>\u001B[0m in \u001B[0;36m<module>\u001B[0;34m()\u001B[0m\n\u001B[1;32m     21\u001B[0m         \u001B[0;32mpass\u001B[0m\u001B[0;34m\u001B[0m\u001B[0;34m\u001B[0m\u001B[0m\n\u001B[1;32m     22\u001B[0m \u001B[0;34m\u001B[0m\u001B[0m\n\u001B[0;32m---> 23\u001B[0;31m \u001B[0msave_cloud_model\u001B[0m\u001B[0;34m(\u001B[0m\u001B[0;34m)\u001B[0m\u001B[0;34m\u001B[0m\u001B[0;34m\u001B[0m\u001B[0m\n\u001B[0m\u001B[1;32m     24\u001B[0m \u001B[0;34m\u001B[0m\u001B[0m\n\u001B[1;32m     25\u001B[0m \u001B[0;34m\u001B[0m\u001B[0m\n",
      "\u001B[0;32m<ipython-input-7-f475480ff637>\u001B[0m in \u001B[0;36msave_cloud_model\u001B[0;34m()\u001B[0m\n\u001B[1;32m     17\u001B[0m \u001B[0;34m\u001B[0m\u001B[0m\n\u001B[1;32m     18\u001B[0m     \u001B[0;32mtry\u001B[0m\u001B[0;34m:\u001B[0m\u001B[0;34m\u001B[0m\u001B[0;34m\u001B[0m\u001B[0m\n\u001B[0;32m---> 19\u001B[0;31m         \u001B[0mshutil\u001B[0m\u001B[0;34m.\u001B[0m\u001B[0mcopytree\u001B[0m\u001B[0;34m(\u001B[0m\u001B[0mCloud_Saved_Path\u001B[0m\u001B[0;34m,\u001B[0m \u001B[0mLocal_Saved_Path\u001B[0m \u001B[0;34m+\u001B[0m \u001B[0mLocal_Saved_Name\u001B[0m\u001B[0;34m)\u001B[0m\u001B[0;34m\u001B[0m\u001B[0;34m\u001B[0m\u001B[0m\n\u001B[0m\u001B[1;32m     20\u001B[0m     \u001B[0;32mexcept\u001B[0m \u001B[0mFileExistsError\u001B[0m \u001B[0;32mas\u001B[0m \u001B[0me\u001B[0m\u001B[0;34m:\u001B[0m\u001B[0;34m\u001B[0m\u001B[0;34m\u001B[0m\u001B[0m\n\u001B[1;32m     21\u001B[0m         \u001B[0;32mpass\u001B[0m\u001B[0;34m\u001B[0m\u001B[0;34m\u001B[0m\u001B[0m\n",
      "\u001B[0;32m/usr/lib/python3.7/shutil.py\u001B[0m in \u001B[0;36mcopytree\u001B[0;34m(src, dst, symlinks, ignore, copy_function, ignore_dangling_symlinks)\u001B[0m\n\u001B[1;32m    316\u001B[0m \u001B[0;34m\u001B[0m\u001B[0m\n\u001B[1;32m    317\u001B[0m     \"\"\"\n\u001B[0;32m--> 318\u001B[0;31m     \u001B[0mnames\u001B[0m \u001B[0;34m=\u001B[0m \u001B[0mos\u001B[0m\u001B[0;34m.\u001B[0m\u001B[0mlistdir\u001B[0m\u001B[0;34m(\u001B[0m\u001B[0msrc\u001B[0m\u001B[0;34m)\u001B[0m\u001B[0;34m\u001B[0m\u001B[0;34m\u001B[0m\u001B[0m\n\u001B[0m\u001B[1;32m    319\u001B[0m     \u001B[0;32mif\u001B[0m \u001B[0mignore\u001B[0m \u001B[0;32mis\u001B[0m \u001B[0;32mnot\u001B[0m \u001B[0;32mNone\u001B[0m\u001B[0;34m:\u001B[0m\u001B[0;34m\u001B[0m\u001B[0;34m\u001B[0m\u001B[0m\n\u001B[1;32m    320\u001B[0m         \u001B[0mignored_names\u001B[0m \u001B[0;34m=\u001B[0m \u001B[0mignore\u001B[0m\u001B[0;34m(\u001B[0m\u001B[0msrc\u001B[0m\u001B[0;34m,\u001B[0m \u001B[0mnames\u001B[0m\u001B[0;34m)\u001B[0m\u001B[0;34m\u001B[0m\u001B[0;34m\u001B[0m\u001B[0m\n",
      "\u001B[0;31mFileNotFoundError\u001B[0m: [Errno 2] No such file or directory: '/content/gdrive/MyDrive/Saved_Models/FinBERT_L-12_H-768_A-12/checkpoint-350/'"
     ]
    }
   ],
   "source": [
    "import numpy as np\n",
    "from transformers import BertTokenizer, BertForSequenceClassification\n",
    "\n",
    "# 根据保存的模型进行预测\n",
    "Cloud_Saved_Path = '/content/gdrive/MyDrive/Saved_Models/FinBERT_L-12_H-768_A-12/checkpoint-350/'\n",
    "Local_Saved_Path = '/content/LocalSaved/'\n",
    "Local_Saved_Name = 'FinBERT_L-12_H-768_A-12/'\n",
    "\n",
    "\n",
    "# 加载云盘中训练好的模型到本地\n",
    "\n",
    "def save_cloud_model():\n",
    "    if not os.path.exists(Local_Saved_Path):\n",
    "        os.makedirs(Local_Saved_Path)\n",
    "\n",
    "    import shutil\n",
    "    # 下载模型\n",
    "\n",
    "    try:\n",
    "        shutil.copytree(Cloud_Saved_Path, Local_Saved_Path + Local_Saved_Name)\n",
    "    except FileExistsError as e:\n",
    "        pass\n",
    "\n",
    "\n",
    "save_cloud_model()\n",
    "\n",
    "\n",
    "# 执行预测\n",
    "def predict_from_list(texts_list: list) -> np.ndarray:\n",
    "    # 模型路径\n",
    "    model_path = Local_Saved_Path + Local_Saved_Name\n",
    "\n",
    "    # 获取预训练的模型\n",
    "    tokenizer = BertTokenizer.from_pretrained(model_path)\n",
    "    model = BertForSequenceClassification.from_pretrained(model_path,\n",
    "                                                          num_labels=3)  # 3分类\n",
    "\n",
    "    # 用分词器进行预处理\n",
    "    encoded = tokenizer(texts_list,\n",
    "                        truncation=True,\n",
    "                        padding='max_length',\n",
    "                        max_length=32,\n",
    "                        return_tensors='pt')\n",
    "\n",
    "    # 传入要预测的任务到分类模型\n",
    "    out = model(**encoded)\n",
    "\n",
    "    # softmax输出每一类的概率\n",
    "    probs = out.logits.softmax(dim=-1)\n",
    "\n",
    "    return probs.detach().numpy()\n",
    "\n",
    "\n",
    "texts = [\n",
    "    '枪击案嫌犯称最初目标并非安倍',\n",
    "    '重庆一特斯拉失控 致多人伤亡',\n",
    "    '湖南一医院坐椅子收费10元',\n",
    "    '海航客机突发故障断电 机舱如蒸桑拿',\n",
    "    '外卖小哥考上上海交大研究生',\n",
    "]\n",
    "\n",
    "predict_from_list(texts)\n"
   ]
  }
 ],
 "metadata": {
  "accelerator": "GPU",
  "colab": {
   "collapsed_sections": [
    "uwh5_rhsw2Nt"
   ],
   "machine_shape": "hm",
   "name": "BERT-FineTune-Colab",
   "provenance": []
  },
  "gpuClass": "standard",
  "kernelspec": {
   "display_name": "Python 3.7.13 64-bit",
   "language": "python",
   "name": "python3"
  },
  "language_info": {
   "codemirror_mode": {
    "name": "ipython",
    "version": 3
   },
   "file_extension": ".py",
   "mimetype": "text/x-python",
   "name": "python",
   "nbconvert_exporter": "python",
   "pygments_lexer": "ipython3",
   "version": "3.7.13"
  },
  "vscode": {
   "interpreter": {
    "hash": "31f2aee4e71d21fbe5cf8b01ff0e069b9275f58929596ceb00d14d90e3e16cd6"
   }
  },
  "widgets": {
   "application/vnd.jupyter.widget-state+json": {
    "82d45a45257942e9b1cee5e55c0257d6": {
     "model_module": "@jupyter-widgets/controls",
     "model_name": "HBoxModel",
     "model_module_version": "1.5.0",
     "state": {
      "_dom_classes": [],
      "_model_module": "@jupyter-widgets/controls",
      "_model_module_version": "1.5.0",
      "_model_name": "HBoxModel",
      "_view_count": null,
      "_view_module": "@jupyter-widgets/controls",
      "_view_module_version": "1.5.0",
      "_view_name": "HBoxView",
      "box_style": "",
      "children": [
       "IPY_MODEL_d56f860d82d0467087bf963eded89cd1",
       "IPY_MODEL_e7757c8aa6734387a9adbea857e0d36f",
       "IPY_MODEL_d9fa0f3bf7bf46a6825d3817cd9767c4"
      ],
      "layout": "IPY_MODEL_7e06098f8f7e4db393f9c7f49410c127"
     }
    },
    "d56f860d82d0467087bf963eded89cd1": {
     "model_module": "@jupyter-widgets/controls",
     "model_name": "HTMLModel",
     "model_module_version": "1.5.0",
     "state": {
      "_dom_classes": [],
      "_model_module": "@jupyter-widgets/controls",
      "_model_module_version": "1.5.0",
      "_model_name": "HTMLModel",
      "_view_count": null,
      "_view_module": "@jupyter-widgets/controls",
      "_view_module_version": "1.5.0",
      "_view_name": "HTMLView",
      "description": "",
      "description_tooltip": null,
      "layout": "IPY_MODEL_f03fa56028b045b5886eb0d78bfa12f5",
      "placeholder": "​",
      "style": "IPY_MODEL_0e7d0be2e58e44c8a1a26b01024d98a0",
      "value": "100%"
     }
    },
    "e7757c8aa6734387a9adbea857e0d36f": {
     "model_module": "@jupyter-widgets/controls",
     "model_name": "FloatProgressModel",
     "model_module_version": "1.5.0",
     "state": {
      "_dom_classes": [],
      "_model_module": "@jupyter-widgets/controls",
      "_model_module_version": "1.5.0",
      "_model_name": "FloatProgressModel",
      "_view_count": null,
      "_view_module": "@jupyter-widgets/controls",
      "_view_module_version": "1.5.0",
      "_view_name": "ProgressView",
      "bar_style": "success",
      "description": "",
      "description_tooltip": null,
      "layout": "IPY_MODEL_d40f53a042ab4bca9aa1adcd5742d7cb",
      "max": 3,
      "min": 0,
      "orientation": "horizontal",
      "style": "IPY_MODEL_1fc42a74596a46a0ade90b115816658f",
      "value": 3
     }
    },
    "d9fa0f3bf7bf46a6825d3817cd9767c4": {
     "model_module": "@jupyter-widgets/controls",
     "model_name": "HTMLModel",
     "model_module_version": "1.5.0",
     "state": {
      "_dom_classes": [],
      "_model_module": "@jupyter-widgets/controls",
      "_model_module_version": "1.5.0",
      "_model_name": "HTMLModel",
      "_view_count": null,
      "_view_module": "@jupyter-widgets/controls",
      "_view_module_version": "1.5.0",
      "_view_name": "HTMLView",
      "description": "",
      "description_tooltip": null,
      "layout": "IPY_MODEL_c99f577f252c4fa78e74ae233b6c53aa",
      "placeholder": "​",
      "style": "IPY_MODEL_f8a83b1b1d1f44928e502afc3cd65bb7",
      "value": " 3/3 [00:00&lt;00:00,  7.60it/s]"
     }
    },
    "7e06098f8f7e4db393f9c7f49410c127": {
     "model_module": "@jupyter-widgets/base",
     "model_name": "LayoutModel",
     "model_module_version": "1.2.0",
     "state": {
      "_model_module": "@jupyter-widgets/base",
      "_model_module_version": "1.2.0",
      "_model_name": "LayoutModel",
      "_view_count": null,
      "_view_module": "@jupyter-widgets/base",
      "_view_module_version": "1.2.0",
      "_view_name": "LayoutView",
      "align_content": null,
      "align_items": null,
      "align_self": null,
      "border": null,
      "bottom": null,
      "display": null,
      "flex": null,
      "flex_flow": null,
      "grid_area": null,
      "grid_auto_columns": null,
      "grid_auto_flow": null,
      "grid_auto_rows": null,
      "grid_column": null,
      "grid_gap": null,
      "grid_row": null,
      "grid_template_areas": null,
      "grid_template_columns": null,
      "grid_template_rows": null,
      "height": null,
      "justify_content": null,
      "justify_items": null,
      "left": null,
      "margin": null,
      "max_height": null,
      "max_width": null,
      "min_height": null,
      "min_width": null,
      "object_fit": null,
      "object_position": null,
      "order": null,
      "overflow": null,
      "overflow_x": null,
      "overflow_y": null,
      "padding": null,
      "right": null,
      "top": null,
      "visibility": null,
      "width": null
     }
    },
    "f03fa56028b045b5886eb0d78bfa12f5": {
     "model_module": "@jupyter-widgets/base",
     "model_name": "LayoutModel",
     "model_module_version": "1.2.0",
     "state": {
      "_model_module": "@jupyter-widgets/base",
      "_model_module_version": "1.2.0",
      "_model_name": "LayoutModel",
      "_view_count": null,
      "_view_module": "@jupyter-widgets/base",
      "_view_module_version": "1.2.0",
      "_view_name": "LayoutView",
      "align_content": null,
      "align_items": null,
      "align_self": null,
      "border": null,
      "bottom": null,
      "display": null,
      "flex": null,
      "flex_flow": null,
      "grid_area": null,
      "grid_auto_columns": null,
      "grid_auto_flow": null,
      "grid_auto_rows": null,
      "grid_column": null,
      "grid_gap": null,
      "grid_row": null,
      "grid_template_areas": null,
      "grid_template_columns": null,
      "grid_template_rows": null,
      "height": null,
      "justify_content": null,
      "justify_items": null,
      "left": null,
      "margin": null,
      "max_height": null,
      "max_width": null,
      "min_height": null,
      "min_width": null,
      "object_fit": null,
      "object_position": null,
      "order": null,
      "overflow": null,
      "overflow_x": null,
      "overflow_y": null,
      "padding": null,
      "right": null,
      "top": null,
      "visibility": null,
      "width": null
     }
    },
    "0e7d0be2e58e44c8a1a26b01024d98a0": {
     "model_module": "@jupyter-widgets/controls",
     "model_name": "DescriptionStyleModel",
     "model_module_version": "1.5.0",
     "state": {
      "_model_module": "@jupyter-widgets/controls",
      "_model_module_version": "1.5.0",
      "_model_name": "DescriptionStyleModel",
      "_view_count": null,
      "_view_module": "@jupyter-widgets/base",
      "_view_module_version": "1.2.0",
      "_view_name": "StyleView",
      "description_width": ""
     }
    },
    "d40f53a042ab4bca9aa1adcd5742d7cb": {
     "model_module": "@jupyter-widgets/base",
     "model_name": "LayoutModel",
     "model_module_version": "1.2.0",
     "state": {
      "_model_module": "@jupyter-widgets/base",
      "_model_module_version": "1.2.0",
      "_model_name": "LayoutModel",
      "_view_count": null,
      "_view_module": "@jupyter-widgets/base",
      "_view_module_version": "1.2.0",
      "_view_name": "LayoutView",
      "align_content": null,
      "align_items": null,
      "align_self": null,
      "border": null,
      "bottom": null,
      "display": null,
      "flex": null,
      "flex_flow": null,
      "grid_area": null,
      "grid_auto_columns": null,
      "grid_auto_flow": null,
      "grid_auto_rows": null,
      "grid_column": null,
      "grid_gap": null,
      "grid_row": null,
      "grid_template_areas": null,
      "grid_template_columns": null,
      "grid_template_rows": null,
      "height": null,
      "justify_content": null,
      "justify_items": null,
      "left": null,
      "margin": null,
      "max_height": null,
      "max_width": null,
      "min_height": null,
      "min_width": null,
      "object_fit": null,
      "object_position": null,
      "order": null,
      "overflow": null,
      "overflow_x": null,
      "overflow_y": null,
      "padding": null,
      "right": null,
      "top": null,
      "visibility": null,
      "width": null
     }
    },
    "1fc42a74596a46a0ade90b115816658f": {
     "model_module": "@jupyter-widgets/controls",
     "model_name": "ProgressStyleModel",
     "model_module_version": "1.5.0",
     "state": {
      "_model_module": "@jupyter-widgets/controls",
      "_model_module_version": "1.5.0",
      "_model_name": "ProgressStyleModel",
      "_view_count": null,
      "_view_module": "@jupyter-widgets/base",
      "_view_module_version": "1.2.0",
      "_view_name": "StyleView",
      "bar_color": null,
      "description_width": ""
     }
    },
    "c99f577f252c4fa78e74ae233b6c53aa": {
     "model_module": "@jupyter-widgets/base",
     "model_name": "LayoutModel",
     "model_module_version": "1.2.0",
     "state": {
      "_model_module": "@jupyter-widgets/base",
      "_model_module_version": "1.2.0",
      "_model_name": "LayoutModel",
      "_view_count": null,
      "_view_module": "@jupyter-widgets/base",
      "_view_module_version": "1.2.0",
      "_view_name": "LayoutView",
      "align_content": null,
      "align_items": null,
      "align_self": null,
      "border": null,
      "bottom": null,
      "display": null,
      "flex": null,
      "flex_flow": null,
      "grid_area": null,
      "grid_auto_columns": null,
      "grid_auto_flow": null,
      "grid_auto_rows": null,
      "grid_column": null,
      "grid_gap": null,
      "grid_row": null,
      "grid_template_areas": null,
      "grid_template_columns": null,
      "grid_template_rows": null,
      "height": null,
      "justify_content": null,
      "justify_items": null,
      "left": null,
      "margin": null,
      "max_height": null,
      "max_width": null,
      "min_height": null,
      "min_width": null,
      "object_fit": null,
      "object_position": null,
      "order": null,
      "overflow": null,
      "overflow_x": null,
      "overflow_y": null,
      "padding": null,
      "right": null,
      "top": null,
      "visibility": null,
      "width": null
     }
    },
    "f8a83b1b1d1f44928e502afc3cd65bb7": {
     "model_module": "@jupyter-widgets/controls",
     "model_name": "DescriptionStyleModel",
     "model_module_version": "1.5.0",
     "state": {
      "_model_module": "@jupyter-widgets/controls",
      "_model_module_version": "1.5.0",
      "_model_name": "DescriptionStyleModel",
      "_view_count": null,
      "_view_module": "@jupyter-widgets/base",
      "_view_module_version": "1.2.0",
      "_view_name": "StyleView",
      "description_width": ""
     }
    }
   }
  }
 },
 "nbformat": 4,
 "nbformat_minor": 0
}